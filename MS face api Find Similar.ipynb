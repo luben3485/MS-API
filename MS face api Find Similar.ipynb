{
 "cells": [
  {
   "cell_type": "code",
   "execution_count": 1,
   "metadata": {},
   "outputs": [],
   "source": [
    "import requests"
   ]
  },
  {
   "cell_type": "code",
   "execution_count": 5,
   "metadata": {},
   "outputs": [
    {
     "name": "stdout",
     "output_type": "stream",
     "text": [
      "989eb6e6-90f1-446e-a099-0f7894c5d258\n",
      "200\n",
      "[{'faceId': '989eb6e6-90f1-446e-a099-0f7894c5d258', 'faceRectangle': {'top': 1034, 'left': 873, 'width': 1622, 'height': 1622}, 'faceAttributes': {'gender': 'male', 'age': 15.2}}]\n"
     ]
    }
   ],
   "source": [
    "headers_detection= {\n",
    "    # Request headers\n",
    "    'Content-Type': 'application/json',\n",
    "    'Ocp-Apim-Subscription-Key': '07ecc20b5e0f4c01b3b62196a116fee6',\n",
    "}\n",
    "face_api_url = 'https://westus.api.cognitive.microsoft.com/face/v1.0/detect'\n",
    "#image_url = 'http://img.ltn.com.tw/Upload/ent/page/800/2017/09/19/phptAauXJ.jpg'\n",
    "image_url='https://i.imgur.com/gkvoOIa.jpg'\n",
    "params_detection = {\n",
    "    'returnFaceId': 'true',\n",
    "    'returnFaceLandmarks': 'false',\n",
    "    'returnFaceAttributes': 'age,gender'\n",
    "}\n",
    "\n",
    "response_detection = requests.post(face_api_url, params=params_detection, headers=headers_detection, json={\"url\": image_url})\n",
    "test_faceId = response_detection.json()[0]['faceId']\n",
    "print(test_faceId)\n",
    "print(response_detection.status_code)\n",
    "print(response_detection.json())"
   ]
  },
  {
   "cell_type": "code",
   "execution_count": 6,
   "metadata": {},
   "outputs": [
    {
     "name": "stdout",
     "output_type": "stream",
     "text": [
      "200\n",
      "[{'persistedFaceId': '53c016fb-7d69-46ad-b264-c1c5027f2ad6', 'confidence': 1.0}]\n",
      "1.0\n"
     ]
    }
   ],
   "source": [
    "headers_find = {\n",
    "    # Request headers\n",
    "    'Content-Type': 'application/json',\n",
    "    'Ocp-Apim-Subscription-Key': '07ecc20b5e0f4c01b3b62196a116fee6',\n",
    "}\n",
    "json = {\n",
    "    \"faceId\": test_faceId,\n",
    "    \"faceListId\": \"dorm\",\n",
    "    \"maxNumOfCandidatesReturned\": 10,\n",
    "    \"mode\": \"matchPerson\"\n",
    "}\n",
    "response_find = requests.post('https://westus.api.cognitive.microsoft.com/face/v1.0/findsimilars',json = json,headers = headers_find)\n",
    "print(response_find.status_code)\n",
    "print(response_find.json())\n",
    "find = response_find.json()\n",
    "for f in find:\n",
    "    print(f[\"confidence\"])"
   ]
  },
  {
   "cell_type": "code",
   "execution_count": 6,
   "metadata": {},
   "outputs": [
    {
     "name": "stdout",
     "output_type": "stream",
     "text": [
      "400\n",
      "{'error': {'code': 'FaceNotFound', 'message': 'Face is not found.'}}\n"
     ]
    }
   ],
   "source": []
  },
  {
   "cell_type": "code",
   "execution_count": null,
   "metadata": {},
   "outputs": [],
   "source": []
  }
 ],
 "metadata": {
  "kernelspec": {
   "display_name": "Python 3",
   "language": "python",
   "name": "python3"
  },
  "language_info": {
   "codemirror_mode": {
    "name": "ipython",
    "version": 3
   },
   "file_extension": ".py",
   "mimetype": "text/x-python",
   "name": "python",
   "nbconvert_exporter": "python",
   "pygments_lexer": "ipython3",
   "version": "3.6.4"
  }
 },
 "nbformat": 4,
 "nbformat_minor": 2
}
