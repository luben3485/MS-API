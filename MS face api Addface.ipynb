{
 "cells": [
  {
   "cell_type": "code",
   "execution_count": 2,
   "metadata": {},
   "outputs": [],
   "source": [
    "import requests"
   ]
  },
  {
   "cell_type": "code",
   "execution_count": 3,
   "metadata": {},
   "outputs": [
    {
     "name": "stdout",
     "output_type": "stream",
     "text": [
      "200\n",
      "{'persistedFaceId': '53c016fb-7d69-46ad-b264-c1c5027f2ad6'}\n"
     ]
    }
   ],
   "source": [
    "headers= {\n",
    "    # Request headers\n",
    "    'Content-Type': 'application/json',\n",
    "    'Ocp-Apim-Subscription-Key': '07ecc20b5e0f4c01b3b62196a116fee6',\n",
    "}\n",
    "json = {\n",
    "    \"url\": \"https://i.imgur.com/gkvoOIa.jpg\"\n",
    "}\n",
    "response = requests.post('https://westus.api.cognitive.microsoft.com/face/v1.0/facelists/dorm/persistedFaces',json = json,headers = headers)\n",
    "print(response.status_code)\n",
    "print(response.json())\n"
   ]
  },
  {
   "cell_type": "code",
   "execution_count": null,
   "metadata": {},
   "outputs": [],
   "source": []
  }
 ],
 "metadata": {
  "kernelspec": {
   "display_name": "Python 3",
   "language": "python",
   "name": "python3"
  },
  "language_info": {
   "codemirror_mode": {
    "name": "ipython",
    "version": 3
   },
   "file_extension": ".py",
   "mimetype": "text/x-python",
   "name": "python",
   "nbconvert_exporter": "python",
   "pygments_lexer": "ipython3",
   "version": "3.6.4"
  }
 },
 "nbformat": 4,
 "nbformat_minor": 2
}
